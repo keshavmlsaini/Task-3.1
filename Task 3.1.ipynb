{
 "cells": [
  {
   "cell_type": "code",
   "execution_count": 1,
   "id": "9c9da213",
   "metadata": {},
   "outputs": [],
   "source": [
    "import cv2"
   ]
  },
  {
   "cell_type": "code",
   "execution_count": 2,
   "id": "238f7261",
   "metadata": {},
   "outputs": [],
   "source": [
    "import numpy"
   ]
  },
  {
   "cell_type": "code",
   "execution_count": 3,
   "id": "8a4952b7",
   "metadata": {},
   "outputs": [],
   "source": [
    "img=cv2.imread('img.jpg')\n",
    "img1=cv2.imread('rectangle.jpg')\n"
   ]
  },
  {
   "cell_type": "code",
   "execution_count": 4,
   "id": "c49b5189",
   "metadata": {},
   "outputs": [],
   "source": [
    "img=cv2.resize(img,(512,512))\n",
    "img1=cv2.resize(img1,(512,512))\n",
    "#final_image=numpy.vstack((img,img1))\n",
    "\n",
    "final_images=numpy.hstack((img,img1))"
   ]
  },
  {
   "cell_type": "code",
   "execution_count": 5,
   "id": "8e64ca0c",
   "metadata": {},
   "outputs": [],
   "source": [
    "#cv2.imshow('Cobination of two images',final_image)\n",
    "cv2.imshow('Cobination of two images',final_images)\n",
    "cv2.waitKey()\n",
    "\n",
    "cv2.destroyAllWindows()"
   ]
  },
  {
   "cell_type": "code",
   "execution_count": null,
   "id": "49029a46",
   "metadata": {},
   "outputs": [],
   "source": []
  },
  {
   "cell_type": "code",
   "execution_count": null,
   "id": "d9b0db9b",
   "metadata": {},
   "outputs": [],
   "source": []
  }
 ],
 "metadata": {
  "kernelspec": {
   "display_name": "Python 3",
   "language": "python",
   "name": "python3"
  },
  "language_info": {
   "codemirror_mode": {
    "name": "ipython",
    "version": 3
   },
   "file_extension": ".py",
   "mimetype": "text/x-python",
   "name": "python",
   "nbconvert_exporter": "python",
   "pygments_lexer": "ipython3",
   "version": "3.8.8"
  }
 },
 "nbformat": 4,
 "nbformat_minor": 5
}
